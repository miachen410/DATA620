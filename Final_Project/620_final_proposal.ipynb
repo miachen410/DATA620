{
 "cells": [
  {
   "cell_type": "markdown",
   "metadata": {},
   "source": [
    "# DATA 620 Final Project Proposal\n",
    "\n",
    "##### Team: Mia Chen & Wei Zhou\n",
    "##### Date: 7/12/2020\n",
    "\n",
    "## High Level Plan\n",
    "For the final project, we are planning to incorporate both main themes we learned in this course: network analysis and text processing. We are going to use the [2018 State of the Union Address Retweet Dataset](https://assets.datacamp.com/production/repositories/2161/datasets/51e79668580cdb86969c2c625172eaed2ded684a/sotu2018-rt.csv) to analyze the diversity of twitter discussion networks, discover the prevalence of important topics, as well as the sentiment of the tweets/retweets. The State of the Union is an annual address by the President of the United States before a joint session of congress. In it, the President reviews the previous year and lays out his legislative agenda for the coming year. Since year 2020 is the election year, we are interested to find out how the general public have reacted to Donald Trump's political agenda, and if those reactions could be used to predict the chance of him getting re-elected. \n",
    "\n",
    "## Dataset\n",
    "There are 37 columns in this dataset, and we are going to focus on 3 of them:\n",
    "* `user-screen_name`: the person who retweeted; will be used as a node for network analysis\n",
    "* `retweeted_status-user-screen_name`: the target whose tweet been retweeted; will be used as another node on the edge for network analysis\n",
    "* `text`: the actual tweet text that will be used to analyze the topic, the most frequent words, as well as the sentiment of the tweet"
   ]
  },
  {
   "cell_type": "code",
   "execution_count": null,
   "metadata": {},
   "outputs": [],
   "source": [
    "import pandas as pd"
   ]
  },
  {
   "cell_type": "code",
   "execution_count": 4,
   "metadata": {},
   "outputs": [
    {
     "name": "stdout",
     "output_type": "stream",
     "text": [
      "<class 'pandas.core.frame.DataFrame'>\n",
      "RangeIndex: 2340 entries, 0 to 2339\n",
      "Data columns (total 37 columns):\n",
      "contributors                                 0 non-null float64\n",
      "coordinates                                  0 non-null float64\n",
      "created_at                                   2340 non-null object\n",
      "extended_entities                            283 non-null object\n",
      "favorite_count                               2340 non-null int64\n",
      "favorited                                    2340 non-null bool\n",
      "filter_level                                 2340 non-null object\n",
      "geo                                          0 non-null float64\n",
      "id                                           2340 non-null int64\n",
      "id_str                                       2340 non-null int64\n",
      "in_reply_to_screen_name                      0 non-null float64\n",
      "in_reply_to_status_id                        0 non-null float64\n",
      "in_reply_to_status_id_str                    0 non-null float64\n",
      "in_reply_to_user_id                          0 non-null float64\n",
      "in_reply_to_user_id_str                      0 non-null float64\n",
      "is_quote_status                              2340 non-null bool\n",
      "lang                                         2340 non-null object\n",
      "place                                        0 non-null float64\n",
      "possibly_sensitive                           480 non-null object\n",
      "quote_count                                  2340 non-null int64\n",
      "quoted_status-extended_tweet-full_text       55 non-null object\n",
      "quoted_status-text                           130 non-null object\n",
      "quoted_status-user-screen_name               130 non-null object\n",
      "quoted_status_id                             130 non-null float64\n",
      "quoted_status_id_str                         130 non-null float64\n",
      "reply_count                                  2340 non-null int64\n",
      "retweet_count                                2340 non-null int64\n",
      "retweeted                                    2340 non-null bool\n",
      "retweeted_status-extended_tweet-full_text    1103 non-null object\n",
      "retweeted_status-text                        2340 non-null object\n",
      "retweeted_status-user-screen_name            2340 non-null object\n",
      "source                                       2340 non-null object\n",
      "text                                         2340 non-null object\n",
      "timestamp_ms                                 2340 non-null int64\n",
      "truncated                                    2340 non-null bool\n",
      "user-screen_name                             2340 non-null object\n",
      "withheld_in_countries                        26 non-null object\n",
      "dtypes: bool(4), float64(11), int64(7), object(15)\n",
      "memory usage: 612.5+ KB\n"
     ]
    }
   ],
   "source": [
    "data = pd.read_csv('https://assets.datacamp.com/production/repositories/2161/datasets/51e79668580cdb86969c2c625172eaed2ded684a/sotu2018-rt.csv')\n",
    "\n",
    "data.info()"
   ]
  },
  {
   "cell_type": "code",
   "execution_count": 5,
   "metadata": {},
   "outputs": [
    {
     "data": {
      "text/plain": [
       "0          ScottPresler\n",
       "1              RealJack\n",
       "2         UNITEDWEDREAM\n",
       "3            TomiLahren\n",
       "4            TomiLahren\n",
       "             ...       \n",
       "2335      ColumbiaBugle\n",
       "2336    RedNationRising\n",
       "2337    4everNeverTrump\n",
       "2338        HowardKurtz\n",
       "2339       MattOswaltVA\n",
       "Name: retweeted_status-user-screen_name, Length: 2340, dtype: object"
      ]
     },
     "execution_count": 5,
     "metadata": {},
     "output_type": "execute_result"
    }
   ],
   "source": [
    "data['retweeted_status-user-screen_name']"
   ]
  },
  {
   "cell_type": "code",
   "execution_count": 6,
   "metadata": {},
   "outputs": [
    {
     "data": {
      "text/plain": [
       "0           MatthewJAld\n",
       "1          broussard_sr\n",
       "2            CLSTEPHANY\n",
       "3         DAWNSTUTESMAN\n",
       "4               SCischk\n",
       "             ...       \n",
       "2335      _weebutmighty\n",
       "2336    johnny0nthesp0t\n",
       "2337       joblackwood3\n",
       "2338       LindaGarriss\n",
       "2339        JesseMartel\n",
       "Name: user-screen_name, Length: 2340, dtype: object"
      ]
     },
     "execution_count": 6,
     "metadata": {},
     "output_type": "execute_result"
    }
   ],
   "source": [
    "data['user-screen_name']"
   ]
  },
  {
   "cell_type": "code",
   "execution_count": 7,
   "metadata": {},
   "outputs": [
    {
     "data": {
      "text/plain": [
       "0       RT @ScottPresler: A PERFECT ANALOGY:\\n\\nSevera...\n",
       "1       RT @RealJack: President Trump invited families...\n",
       "2       RT @UNITEDWEDREAM: Don't you be fooled by any ...\n",
       "3       RT @TomiLahren: Uh-oh. Our president mentioned...\n",
       "4       RT @TomiLahren: Tonight isn't about memos, fak...\n",
       "                              ...                        \n",
       "2335    RT @ColumbiaBugle: Wow, that portion on the fa...\n",
       "2336    RT @RedNationRising: Without God, we're destin...\n",
       "2337    RT @4everNeverTrump: Uhhh...\"New American Mome...\n",
       "2338    RT @HowardKurtz: All the early chatter about w...\n",
       "2339    RT @MattOswaltVA: this Conan O'Brien Democrati...\n",
       "Name: text, Length: 2340, dtype: object"
      ]
     },
     "execution_count": 7,
     "metadata": {},
     "output_type": "execute_result"
    }
   ],
   "source": [
    "data['text']"
   ]
  },
  {
   "cell_type": "code",
   "execution_count": null,
   "metadata": {},
   "outputs": [],
   "source": []
  }
 ],
 "metadata": {
  "kernelspec": {
   "display_name": "Python 3",
   "language": "python",
   "name": "python3"
  },
  "language_info": {
   "codemirror_mode": {
    "name": "ipython",
    "version": 3
   },
   "file_extension": ".py",
   "mimetype": "text/x-python",
   "name": "python",
   "nbconvert_exporter": "python",
   "pygments_lexer": "ipython3",
   "version": "3.7.4"
  }
 },
 "nbformat": 4,
 "nbformat_minor": 4
}
