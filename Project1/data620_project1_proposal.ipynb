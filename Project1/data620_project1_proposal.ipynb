{
 "cells": [
  {
   "cell_type": "markdown",
   "metadata": {},
   "source": [
    "# Data620 Assignment - Centrality Measures\n",
    "###### Team Member: Mia Chen / Wei Zhou \n",
    "###### Date: 06/14/2020"
   ]
  },
  {
   "cell_type": "markdown",
   "metadata": {},
   "source": [
    "### Task\n",
    "Centrality measures can be used to predict (positive or negative) outcomes for a node.\n",
    "\n",
    "Your task in this week’s assignment is to identify an interesting set of network data that is available on the web (either through web scraping or web APIs) that could be used for analyzing and comparing centrality measures across nodes.  As an additional constraint, there should be at least one categorical variable available for each node (such as “Male” or “Female”; “Republican”, “Democrat,” or “Undecided”, etc.)\n",
    "\n",
    "In addition to identifying your data source, you should create a high level plan that describes how you would load the data for analysis, and describe a hypothetical outcome that could be predicted from comparing degree centrality across categorical groups. "
   ]
  },
  {
   "cell_type": "markdown",
   "metadata": {},
   "source": [
    "### Dataset\n",
    "\n",
    "We've found the [Stack Overflow Tag Network](https://www.kaggle.com/stackoverflow/stack-overflow-tag-network) dataset from Kaggle.com that a network of technology tags from Developer Stories on the Stack Overflow online developer community website. This dataset contains two tables:\n",
    "\n",
    "* <u>stacknetworklinks:</u> contains links of the network, the source and target tech tags plus the values of the link between each pair\n",
    "\n",
    "* <u>stacknetworknodes:</u> contains nodes of the network, the name of each node, which group that node belongs to (calculated via a cluster walktrap), and a node size based on how often that technology tag is used\n"
   ]
  },
  {
   "cell_type": "markdown",
   "metadata": {},
   "source": [
    "### Plan\n",
    "\n",
    "We are going to use networkx and matplotlib to draw a network graph using these two data sets - nodes will be drawn from the nodes dataset, colored by their respective groups; edges will be drawn from the links dataset, outlining how often these technology tags at Stack Overflow appear together relative to how often they appear separately.From comparing degree centrality across categorical groups, we can likely to predict which group of technology is more popular."
   ]
  },
  {
   "cell_type": "code",
   "execution_count": null,
   "metadata": {},
   "outputs": [],
   "source": []
  }
 ],
 "metadata": {
  "kernelspec": {
   "display_name": "Python 3",
   "language": "python",
   "name": "python3"
  },
  "language_info": {
   "codemirror_mode": {
    "name": "ipython",
    "version": 3
   },
   "file_extension": ".py",
   "mimetype": "text/x-python",
   "name": "python",
   "nbconvert_exporter": "python",
   "pygments_lexer": "ipython3",
   "version": "3.7.4"
  }
 },
 "nbformat": 4,
 "nbformat_minor": 2
}
